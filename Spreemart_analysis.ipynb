{
 "cells": [
  {
   "cell_type": "markdown",
   "metadata": {},
   "source": [
    "## Assignment"
   ]
  },
  {
   "cell_type": "markdown",
   "metadata": {},
   "source": [
    "A retailer called SpreeMart wants to improve their service experience for their customers which have different needs from their different profiles. \n",
    "\n",
    "As a data scientist at SpreeMart, you are asked to develop a model in Python to divide broad customers into sub-groups of customers based on some type of shared characteristics and extract useful insights from the data and your model with a given sample of customer data in the files attached as following. \n",
    "\n",
    "- sm_customers.csv describes the customer's information and its location.\n",
    "- sm_items.csv includes data of items purchased within each order. \n",
    "- sm_orders.csv This file shows data of each order. \n",
    "- sm_payments.csv file details the order payment options. \n",
    "\n",
    "SpreeMart expects you to do good practice for data science including data exploratory, model development, insight interpretation and in addition, sharing the results with stakeholders by preparing a presentation for an audience of mixed technical abilities on your results and thinking process.\n",
    "\n",
    "---"
   ]
  },
  {
   "cell_type": "markdown",
   "metadata": {},
   "source": [
    "## Solution overview"
   ]
  },
  {
   "cell_type": "markdown",
   "metadata": {},
   "source": [
    "SpreeMart is seeking to enhance its customer service experience by better understanding the diverse needs of its customers. Our objective is to analyze customer data and develop a model that segments customers into distinct groups based on shared characteristics. This segmentation will enable SpreeMart to tailor their services more effectively to each group."
   ]
  },
  {
   "cell_type": "markdown",
   "metadata": {},
   "source": [
    "### Expactation and solution approach"
   ]
  },
  {
   "cell_type": "markdown",
   "metadata": {},
   "source": [
    "#### Data exploratory: \n",
    "\n",
    "- **Data cleaning and preparation:** We'll start with loading and examinating the data. We'll identify and handle missing values, and perform any necessary data transformations.\n",
    "- **Exploratory Data Analysis (EDA):** we'll loop deep into the data, looking at distributions, patterns, and relationships. This will help us understand the data's nature and modeling approach.\n",
    "\n",
    "#### Model development:\n",
    "- **Customer Segmentation Model:** We will develop clustering techniques to segment the customers. The choice of technique will depend on the data's characteristics and the insights we wish to derive.\n",
    "\n",
    "#### Insight Generation:\n",
    "- **Analysis and Insight Generation:** we'll analyze each segment to disciver unique traits and behaviors. This will lead to actionable insights which can use to enhance customer experience and service personalization.\n",
    "\n",
    "#### Presentation of Results:\n",
    "- **Presentation and Reporting:** We'll prepare a presentation to summarize our findings, and recommendations. This presentation will be tailored for various level of audiences to communicate our insights and implications business strategy."
   ]
  },
  {
   "cell_type": "markdown",
   "metadata": {},
   "source": [
    "---"
   ]
  },
  {
   "cell_type": "markdown",
   "metadata": {},
   "source": []
  },
  {
   "cell_type": "code",
   "execution_count": null,
   "metadata": {},
   "outputs": [],
   "source": [
    "####"
   ]
  }
 ],
 "metadata": {
  "language_info": {
   "name": "python"
  }
 },
 "nbformat": 4,
 "nbformat_minor": 2
}
