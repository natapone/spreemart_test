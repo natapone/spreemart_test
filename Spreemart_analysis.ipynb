{
 "cells": [
  {
   "cell_type": "markdown",
   "metadata": {},
   "source": [
    "### Assignment"
   ]
  },
  {
   "cell_type": "markdown",
   "metadata": {},
   "source": [
    "A retailer called SpreeMart wants to improve their service experience for their customers which have different needs from their different profiles. \n",
    "\n",
    "As a data scientist at SpreeMart, you are asked to develop a model in Python to divide broad customers into sub-groups of customers based on some type of shared characteristics and extract useful insights from the data and your model with a given sample of customer data in the files attached as following. \n",
    "\n",
    "- sm_customers.csv describes the customer's information and its location.\n",
    "- sm_items.csv includes data of items purchased within each order. \n",
    "- sm_orders.csv This file shows data of each order. \n",
    "- sm_payments.csv file details the order payment options. \n",
    "\n",
    "SpreeMart expects you to do good practice for data science including data exploratory, model development, insight interpretation and in addition, sharing the results with stakeholders by preparing a presentation for an audience of mixed technical abilities on your results and thinking process.\n",
    "\n",
    "---"
   ]
  },
  {
   "cell_type": "code",
   "execution_count": null,
   "metadata": {},
   "outputs": [],
   "source": []
  }
 ],
 "metadata": {
  "language_info": {
   "name": "python"
  }
 },
 "nbformat": 4,
 "nbformat_minor": 2
}
