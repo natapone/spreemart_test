{
 "cells": [
  {
   "cell_type": "markdown",
   "metadata": {},
   "source": [
    "## Assignment"
   ]
  },
  {
   "cell_type": "markdown",
   "metadata": {},
   "source": [
    "A retailer called SpreeMart wants to improve their service experience for their customers which have different needs from their different profiles. \n",
    "\n",
    "As a data scientist at SpreeMart, you are asked to develop a model in Python to divide broad customers into sub-groups of customers based on some type of shared characteristics and extract useful insights from the data and your model with a given sample of customer data in the files attached as following. \n",
    "\n",
    "- sm_customers.csv describes the customer's information and its location.\n",
    "- sm_items.csv includes data of items purchased within each order. \n",
    "- sm_orders.csv This file shows data of each order. \n",
    "- sm_payments.csv file details the order payment options. \n",
    "\n",
    "SpreeMart expects you to do good practice for data science including data exploratory, model development, insight interpretation and in addition, sharing the results with stakeholders by preparing a presentation for an audience of mixed technical abilities on your results and thinking process.\n",
    "\n",
    "---"
   ]
  },
  {
   "cell_type": "markdown",
   "metadata": {},
   "source": [
    "## Solution overview"
   ]
  },
  {
   "cell_type": "markdown",
   "metadata": {},
   "source": [
    "SpreeMart is seeking to enhance its customer service experience by better understanding the diverse needs of its customers. Our objective is to analyze customer data and develop a model that segments customers into distinct groups based on shared characteristics. This segmentation will enable SpreeMart to tailor their services more effectively to each group."
   ]
  },
  {
   "cell_type": "markdown",
   "metadata": {},
   "source": [
    "### Expactation and solution approach"
   ]
  },
  {
   "cell_type": "markdown",
   "metadata": {},
   "source": [
    "#### 1. Data exploration: \n",
    "\n",
    "- **Data cleaning and preparation:** We'll start with loading and examinating the data. We'll identify and handle missing values, and perform any necessary data transformations.\n",
    "- **Exploratory Data Analysis (EDA):** we'll loop deep into the data, looking at distributions, patterns, and relationships. This will help us understand the data's nature and modeling approach.\n",
    "\n",
    "#### 2. Model development:\n",
    "- **Customer Segmentation Model:** We will develop clustering techniques to segment the customers. The choice of technique will depend on the data's characteristics and the insights we wish to derive.\n",
    "\n",
    "#### 3. Insight Generation:\n",
    "- **Analysis and Insight Generation:** we'll analyze each segment to disciver unique traits and behaviors. This will lead to actionable insights which can use to enhance customer experience and service personalization.\n",
    "\n",
    "#### 4. Presentation of Results:\n",
    "- **Presentation and Reporting:** We'll prepare a presentation to summarize our findings, and recommendations. This presentation will be tailored for various level of audiences to communicate our insights and implications business strategy."
   ]
  },
  {
   "cell_type": "markdown",
   "metadata": {},
   "source": [
    "---"
   ]
  },
  {
   "cell_type": "markdown",
   "metadata": {},
   "source": [
    "### 1. Data exploration"
   ]
  },
  {
   "cell_type": "code",
   "execution_count": 23,
   "metadata": {},
   "outputs": [],
   "source": [
    "import pandas as pd\n",
    "import matplotlib.pyplot as plt\n",
    "import seaborn as sns\n",
    "\n",
    "customers = pd.read_csv('./data/sm_customers.csv')\n",
    "items = pd.read_csv('./data/sm_items.csv')\n",
    "orders = pd.read_csv('./data/sm_orders.csv')\n",
    "payments = pd.read_csv('./data/sm_payments.csv')\n"
   ]
  },
  {
   "cell_type": "code",
   "execution_count": 25,
   "metadata": {},
   "outputs": [
    {
     "name": "stdout",
     "output_type": "stream",
     "text": [
      "=========== Info: customers ===========\n",
      "<class 'pandas.core.frame.DataFrame'>\n",
      "RangeIndex: 99441 entries, 0 to 99440\n",
      "Data columns (total 5 columns):\n",
      " #   Column              Non-Null Count  Dtype \n",
      "---  ------              --------------  ----- \n",
      " 0   customer_id         99441 non-null  object\n",
      " 1   customer_unique_id  99441 non-null  object\n",
      " 2   customer_city       99441 non-null  object\n",
      " 3   customer_state      99441 non-null  object\n",
      " 4   customer_zip_code   99441 non-null  int64 \n",
      "dtypes: int64(1), object(4)\n",
      "memory usage: 3.8+ MB\n",
      "None\n",
      "\n",
      "\n",
      "--- Missing Values: customers ---\n",
      "customer_id           0\n",
      "customer_unique_id    0\n",
      "customer_city         0\n",
      "customer_state        0\n",
      "customer_zip_code     0\n",
      "dtype: int64\n",
      "--- Duplicate Rows: customers ---\n",
      "0\n",
      "--- Unique Values: customers ---\n",
      "customer_id           99441\n",
      "customer_unique_id    96096\n",
      "customer_city         38038\n",
      "customer_state           51\n",
      "customer_zip_code     50545\n",
      "dtype: int64\n",
      "\n",
      "\n",
      "=========== Info: items ===========\n",
      "<class 'pandas.core.frame.DataFrame'>\n",
      "RangeIndex: 112650 entries, 0 to 112649\n",
      "Data columns (total 7 columns):\n",
      " #   Column               Non-Null Count   Dtype  \n",
      "---  ------               --------------   -----  \n",
      " 0   order_id             112650 non-null  object \n",
      " 1   order_item_id        112650 non-null  int64  \n",
      " 2   product_id           112650 non-null  object \n",
      " 3   seller_id            112650 non-null  object \n",
      " 4   shipping_limit_date  112650 non-null  object \n",
      " 5   price                112650 non-null  float64\n",
      " 6   freight_value        112650 non-null  float64\n",
      "dtypes: float64(2), int64(1), object(4)\n",
      "memory usage: 6.0+ MB\n",
      "None\n",
      "\n",
      "\n",
      "--- Missing Values: items ---\n",
      "order_id               0\n",
      "order_item_id          0\n",
      "product_id             0\n",
      "seller_id              0\n",
      "shipping_limit_date    0\n",
      "price                  0\n",
      "freight_value          0\n",
      "dtype: int64\n",
      "--- Duplicate Rows: items ---\n",
      "0\n",
      "--- Unique Values: items ---\n",
      "order_id               98666\n",
      "order_item_id             21\n",
      "product_id             32951\n",
      "seller_id               3095\n",
      "shipping_limit_date    93318\n",
      "price                   7951\n",
      "freight_value           7442\n",
      "dtype: int64\n",
      "\n",
      "\n",
      "=========== Info: orders ===========\n",
      "<class 'pandas.core.frame.DataFrame'>\n",
      "RangeIndex: 99441 entries, 0 to 99440\n",
      "Data columns (total 8 columns):\n",
      " #   Column                         Non-Null Count  Dtype \n",
      "---  ------                         --------------  ----- \n",
      " 0   order_id                       99441 non-null  object\n",
      " 1   customer_id                    99441 non-null  object\n",
      " 2   order_status                   99441 non-null  object\n",
      " 3   order_purchase_timestamp       99441 non-null  object\n",
      " 4   order_approved_at              99281 non-null  object\n",
      " 5   order_delivered_carrier_date   97658 non-null  object\n",
      " 6   order_delivered_customer_date  96476 non-null  object\n",
      " 7   order_estimated_delivery_date  99441 non-null  object\n",
      "dtypes: object(8)\n",
      "memory usage: 6.1+ MB\n",
      "None\n",
      "\n",
      "\n",
      "--- Missing Values: orders ---\n",
      "order_id                            0\n",
      "customer_id                         0\n",
      "order_status                        0\n",
      "order_purchase_timestamp            0\n",
      "order_approved_at                 160\n",
      "order_delivered_carrier_date     1783\n",
      "order_delivered_customer_date    2965\n",
      "order_estimated_delivery_date       0\n",
      "dtype: int64\n",
      "--- Duplicate Rows: orders ---\n",
      "0\n",
      "--- Unique Values: orders ---\n",
      "order_id                         99441\n",
      "customer_id                      99441\n",
      "order_status                         8\n",
      "order_purchase_timestamp         98875\n",
      "order_approved_at                90733\n",
      "order_delivered_carrier_date     81018\n",
      "order_delivered_customer_date    95664\n",
      "order_estimated_delivery_date      459\n",
      "dtype: int64\n",
      "\n",
      "\n",
      "=========== Info: payments ===========\n",
      "<class 'pandas.core.frame.DataFrame'>\n",
      "RangeIndex: 103886 entries, 0 to 103885\n",
      "Data columns (total 5 columns):\n",
      " #   Column                Non-Null Count   Dtype  \n",
      "---  ------                --------------   -----  \n",
      " 0   order_id              103886 non-null  object \n",
      " 1   payment_sequential    103886 non-null  int64  \n",
      " 2   payment_type          103886 non-null  object \n",
      " 3   payment_installments  103886 non-null  int64  \n",
      " 4   payment_value         103886 non-null  float64\n",
      "dtypes: float64(1), int64(2), object(2)\n",
      "memory usage: 4.0+ MB\n",
      "None\n",
      "\n",
      "\n",
      "--- Missing Values: payments ---\n",
      "order_id                0\n",
      "payment_sequential      0\n",
      "payment_type            0\n",
      "payment_installments    0\n",
      "payment_value           0\n",
      "dtype: int64\n",
      "--- Duplicate Rows: payments ---\n",
      "0\n",
      "--- Unique Values: payments ---\n",
      "order_id                99440\n",
      "payment_sequential         29\n",
      "payment_type                5\n",
      "payment_installments       24\n",
      "payment_value           32479\n",
      "dtype: int64\n",
      "\n",
      "\n"
     ]
    }
   ],
   "source": [
    "# Loop display summary of each DataFrame\n",
    "\n",
    "dict = {'customers': customers, 'items': items, 'orders': orders, 'payments': payments}\n",
    "\n",
    "for key, df in dict.items():\n",
    "    print(f\"=========== Info: {key} ===========\")\n",
    "    print(df.info())\n",
    "    print(\"\\n\")\n",
    "\n",
    "    # Identify missing values\n",
    "    print(f\"--- Missing Values: {key} ---\")\n",
    "    print(df.isnull().sum())\n",
    "\n",
    "    # Identify duplicate rows\n",
    "    print(f\"--- Duplicate Rows: {key} ---\")\n",
    "    print(df.duplicated().sum())\n",
    "\n",
    "    # Identify unique values\n",
    "    print(f\"--- Unique Values: {key} ---\")\n",
    "    print(df.nunique())\n",
    "\n",
    "    print(\"\\n\")\n",
    "\n",
    "\n"
   ]
  },
  {
   "cell_type": "markdown",
   "metadata": {},
   "source": [
    "----"
   ]
  },
  {
   "cell_type": "markdown",
   "metadata": {},
   "source": [
    "##### Customer investigstion\n",
    "\n",
    "We found that customer table has customer_id and customer_unique_id. We want to their relationship and which one is more useful for our analysis.\n"
   ]
  },
  {
   "cell_type": "code",
   "execution_count": 37,
   "metadata": {},
   "outputs": [
    {
     "name": "stdout",
     "output_type": "stream",
     "text": [
      "Total customer rows count: 99441\n",
      "Unique customer_id count: 99441\n",
      "Unique customer_unique_id count: 96096\n",
      "\n",
      "\n",
      "Distribution of customer_id counts per customer_unique_id:\n",
      "customer_id\n",
      "1     93099\n",
      "2      2745\n",
      "3       203\n",
      "4        30\n",
      "5         8\n",
      "6         6\n",
      "7         3\n",
      "9         1\n",
      "17        1\n",
      "Name: count, dtype: int64\n",
      "\n",
      "\n",
      "Count number of customer_unique_ids which have multiple customer_id: 2997\n",
      "Examples:\n",
      "customer_unique_id\n",
      "ff36be26206fffe1eb37afd54c70e18b    3\n",
      "ff44401d0d8f5b9c54a47374eb48c1b8    2\n",
      "ff8892f7c26aa0446da53d01b18df463    2\n",
      "ff922bdd6bafcdf99cb90d7f39cea5b3    3\n",
      "ffe254cc039740e17dd15a5305035928    2\n",
      "Name: customer_id, dtype: int64\n"
     ]
    }
   ],
   "source": [
    "\n",
    "# total number of rows\n",
    "print(\"Total customer rows count:\", customers.shape[0])\n",
    "\n",
    "# Check unique counts\n",
    "print(\"Unique customer_id count:\", customers['customer_id'].nunique())\n",
    "print(\"Unique customer_unique_id count:\", customers['customer_unique_id'].nunique())\n",
    "print(\"\\n\")\n",
    "\n",
    "# Check if there are multiple customer_ids for a single customer_unique_id\n",
    "customer_id_counts = customers.groupby('customer_unique_id')['customer_id'].nunique()\n",
    "\n",
    "# Customer_id counts per customer_unique_id\n",
    "print(\"Distribution of customer_id counts per customer_unique_id:\")\n",
    "print(customer_id_counts.value_counts())\n",
    "print(\"\\n\")\n",
    "\n",
    "# Analyzing any customer_unique_id with more than one customer_id\n",
    "multi_customer_ids = customer_id_counts[customer_id_counts > 1]\n",
    "\n",
    "# rowcount multi_customer_ids\n",
    "print(\"Count number of customer_unique_ids which have multiple customer_id:\", multi_customer_ids.count())\n",
    "print(\"Examples:\")\n",
    "print(multi_customer_ids.tail(5))\n"
   ]
  },
  {
   "cell_type": "markdown",
   "metadata": {},
   "source": [
    "##### Customer_id and customer_unique_id interpretation\n",
    "\n",
    "- **customer_id** seems to be an order-specific identifier, unique to each transaction. We can use this ID when analyzing at an order level\n",
    "- **customer_unique_id** appears to be a unique identifier for each **individual customer** across multiple transactions. This ID is crucial for customer-level analysis, especially for understanding customer behavior over time\n",
    "\n",
    "**Assumption:** \n",
    "\n",
    "- We will use **customer_unique_id** for our analysis, as it will allow us to group customers based on their overall behavior "
   ]
  },
  {
   "cell_type": "markdown",
   "metadata": {},
   "source": [
    "----"
   ]
  },
  {
   "cell_type": "markdown",
   "metadata": {},
   "source": [
    "### xxx"
   ]
  }
 ],
 "metadata": {
  "kernelspec": {
   "display_name": ".venv",
   "language": "python",
   "name": "python3"
  },
  "language_info": {
   "codemirror_mode": {
    "name": "ipython",
    "version": 3
   },
   "file_extension": ".py",
   "mimetype": "text/x-python",
   "name": "python",
   "nbconvert_exporter": "python",
   "pygments_lexer": "ipython3",
   "version": "3.10.0"
  }
 },
 "nbformat": 4,
 "nbformat_minor": 2
}
